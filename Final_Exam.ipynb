{
  "nbformat": 4,
  "nbformat_minor": 0,
  "metadata": {
    "colab": {
      "name": "Final Exam.ipynb",
      "provenance": [],
      "collapsed_sections": [],
      "authorship_tag": "ABX9TyOzu2qChLPx4VCgabrVg67S",
      "include_colab_link": true
    },
    "kernelspec": {
      "name": "python3",
      "display_name": "Python 3"
    },
    "language_info": {
      "name": "python"
    }
  },
  "cells": [
    {
      "cell_type": "markdown",
      "metadata": {
        "id": "view-in-github",
        "colab_type": "text"
      },
      "source": [
        "<a href=\"https://colab.research.google.com/github/kimmycorpuz/CPEN-21A-ECE-2-1/blob/main/Final_Exam.ipynb\" target=\"_parent\"><img src=\"https://colab.research.google.com/assets/colab-badge.svg\" alt=\"Open In Colab\"/></a>"
      ]
    },
    {
      "cell_type": "markdown",
      "source": [
        "###Problem Statement 1: Loop Statement"
      ],
      "metadata": {
        "id": "9ryOk5rj1VJw"
      }
    },
    {
      "cell_type": "code",
      "source": [
        "#Create a Python program that will produce an output of sum of 10 numbers less than 5\n",
        "\n",
        "numbers = [\"1\",\"2\",\"3\",\"4\",\"5\",\"6\",\"7\",\"8\",\"9\",\"10\"]\n",
        "for x in numbers:\n",
        "  print(x)\n",
        "  n = input(\"Enter Number to Calculate Sum :\")\n",
        "n = int (n)"
      ],
      "metadata": {
        "colab": {
          "base_uri": "https://localhost:8080/"
        },
        "id": "ENeMa0bj1ZET",
        "outputId": "ddf6bbe8-2e14-46c3-af75-06ae35cb03c6"
      },
      "execution_count": 1,
      "outputs": [
        {
          "name": "stdout",
          "output_type": "stream",
          "text": [
            "1\n",
            "Enter Number to Calculate Sum :1\n",
            "2\n",
            "Enter Number to Calculate Sum :2\n",
            "3\n",
            "Enter Number to Calculate Sum :3\n",
            "4\n",
            "Enter Number to Calculate Sum :3\n",
            "5\n",
            "Enter Number to Calculate Sum :4\n",
            "6\n",
            "Enter Number to Calculate Sum :5\n",
            "7\n",
            "Enter Number to Calculate Sum :6\n",
            "8\n",
            "Enter Number to Calculate Sum :7\n",
            "9\n",
            "Enter Number to Calculate Sum :8\n",
            "10\n",
            "Enter Number to Calculate Sum :9\n"
          ]
        }
      ]
    },
    {
      "cell_type": "markdown",
      "source": [
        "###Problem Statement 2: While Loop"
      ],
      "metadata": {
        "id": "QjCatM5c4-kY"
      }
    },
    {
      "cell_type": "code",
      "source": [
        "#Create a Python program that will produce accept five numbers and sum the first and last number\n",
        "\n",
        "x = 0\n",
        "while x < 5:\n",
        "  x += 1\n",
        "  s= (int(input(\"Enter the numbers : \")))\n",
        "  s += s\n",
        "  print(s)\n",
        "n = int(input(\"Enter any number : \"))\n",
        "length = len(str(n))\n",
        "first = n//(10**(length-1))\n",
        "last = n % 10\n",
        "sum = first + last\n",
        "print(f\"sum of {first} and {last} is : \",sum)"
      ],
      "metadata": {
        "colab": {
          "base_uri": "https://localhost:8080/"
        },
        "id": "aka8FhWX5GjC",
        "outputId": "89116ded-0798-4399-f715-165cbf780a7e"
      },
      "execution_count": null,
      "outputs": [
        {
          "output_type": "stream",
          "name": "stdout",
          "text": [
            "Enter the numbers : 1\n",
            "2\n",
            "Enter the numbers : 2\n",
            "4\n",
            "Enter the numbers : 3\n",
            "6\n",
            "Enter the numbers : 4\n",
            "8\n",
            "Enter the numbers : 5\n",
            "10\n",
            "Enter any number : 12345\n",
            "sum of 1 and 5 is :  6\n"
          ]
        }
      ]
    },
    {
      "cell_type": "markdown",
      "source": [
        "###Problem Statement 3: Nested-IF-Else Statement"
      ],
      "metadata": {
        "id": "bISzEg2b72Oe"
      }
    },
    {
      "cell_type": "code",
      "source": [
        "#Create a Python program to calculate student grades\n",
        "\n",
        "range = [\"90 and above\",\"90-89\",\"70-79\",\"60-69\",\"Below 60\"]\n",
        "grade = [\"A\",\"B\",\"C\",\"D\",\"F\"]\n",
        "\n",
        "for x in range:\n",
        "  for y in grade:\n",
        "    print(x,y)\n",
        "if range<grade:\n",
        "  print(\"Your grade is : \")\n",
        "marks = float(input(\"Enter your range : \"))\n",
        "if marks > 90 and above:\n",
        "    print(\"Grade: A\")\n",
        "elif marks >= 90 and marks < 89:\n",
        "    print(\"Grade: B\")\n",
        "elif marks >= 70 and marks < 79:\n",
        "    print(\"Grade: C\")\n",
        "elif marks >= 60 and marks < 69:\n",
        "    print(\"Grade: D\")\n",
        "else:\n",
        "    print(\"Grade: F\")"
      ],
      "metadata": {
        "id": "BLbV_-hIB_0i",
        "outputId": "c484bc07-4080-4485-9627-e46a2455b47a",
        "colab": {
          "base_uri": "https://localhost:8080/"
        }
      },
      "execution_count": null,
      "outputs": [
        {
          "output_type": "stream",
          "name": "stdout",
          "text": [
            "90 and above A\n",
            "90 and above B\n",
            "90 and above C\n",
            "90 and above D\n",
            "90 and above F\n",
            "90-89 A\n",
            "90-89 B\n",
            "90-89 C\n",
            "90-89 D\n",
            "90-89 F\n",
            "70-79 A\n",
            "70-79 B\n",
            "70-79 C\n",
            "70-79 D\n",
            "70-79 F\n",
            "60-69 A\n",
            "60-69 B\n",
            "60-69 C\n",
            "60-69 D\n",
            "60-69 F\n",
            "Below 60 A\n",
            "Below 60 B\n",
            "Below 60 C\n",
            "Below 60 D\n",
            "Below 60 F\n",
            "Your grade is : \n",
            "Enter your range : 89\n",
            "Grade: F\n"
          ]
        }
      ]
    }
  ]
}