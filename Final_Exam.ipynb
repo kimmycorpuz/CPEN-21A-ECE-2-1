{
  "nbformat": 4,
  "nbformat_minor": 0,
  "metadata": {
    "colab": {
      "name": "Final Exam.ipynb",
      "provenance": [],
      "collapsed_sections": [],
      "authorship_tag": "ABX9TyMQsLRFrdqxvoyl4G8ARWfm",
      "include_colab_link": true
    },
    "kernelspec": {
      "name": "python3",
      "display_name": "Python 3"
    },
    "language_info": {
      "name": "python"
    }
  },
  "cells": [
    {
      "cell_type": "markdown",
      "metadata": {
        "id": "view-in-github",
        "colab_type": "text"
      },
      "source": [
        "<a href=\"https://colab.research.google.com/github/kimmycorpuz/CPEN-21A-ECE-2-1/blob/main/Final_Exam.ipynb\" target=\"_parent\"><img src=\"https://colab.research.google.com/assets/colab-badge.svg\" alt=\"Open In Colab\"/></a>"
      ]
    },
    {
      "cell_type": "markdown",
      "source": [
        "###Problem Statement 1: Loop Statement"
      ],
      "metadata": {
        "id": "9ryOk5rj1VJw"
      }
    },
    {
      "cell_type": "code",
      "source": [
        "#Create a Python program that will produce an output of sum of 10 numbers less than 5\n",
        "\n",
        "numbers = [\"1\",\"2\",\"3\",\"4\",\"5\",\"6\",\"7\",\"8\",\"9\",\"10\"]\n",
        "for x in numbers:\n",
        "  print(x)"
      ],
      "metadata": {
        "colab": {
          "base_uri": "https://localhost:8080/"
        },
        "id": "ENeMa0bj1ZET",
        "outputId": "344a2d49-9beb-48b4-8788-c3c845be0d22"
      },
      "execution_count": null,
      "outputs": [
        {
          "output_type": "stream",
          "name": "stdout",
          "text": [
            "1\n",
            "2\n",
            "3\n",
            "4\n",
            "5\n",
            "6\n",
            "7\n",
            "8\n",
            "9\n",
            "10\n"
          ]
        }
      ]
    },
    {
      "cell_type": "markdown",
      "source": [
        "###Problem Statement 2: While Loop"
      ],
      "metadata": {
        "id": "QjCatM5c4-kY"
      }
    },
    {
      "cell_type": "code",
      "source": [
        "#Create a Python program that will produce accept five numbers and sum the first and last number\n",
        "\n",
        "x = 0\n",
        "while x < 5:\n",
        "  x += 1\n",
        "  s= (int(input(\"Enter the numbers : \")))\n",
        "  s += s\n",
        "  print(s)\n",
        "\n",
        "n = int(input(\"Enter any number : \"))\n",
        "length = len(str(n))\n",
        "first = n//(10**(length-1))\n",
        "last = n % 10\n",
        "sum = first + last\n",
        "print(f\"sum of {first} and {last} is : \",sum)"
      ],
      "metadata": {
        "colab": {
          "base_uri": "https://localhost:8080/"
        },
        "id": "aka8FhWX5GjC",
        "outputId": "feedc1eb-2017-4c18-fd4b-bcb5d8daed93"
      },
      "execution_count": 66,
      "outputs": [
        {
          "output_type": "stream",
          "name": "stdout",
          "text": [
            "Enter the numbers : 1\n",
            "2\n",
            "Enter the numbers : 2\n",
            "4\n",
            "Enter the numbers : 3\n",
            "6\n",
            "Enter the numbers : 4\n",
            "8\n",
            "Enter the numbers : 5\n",
            "10\n",
            "Enter any number : 12345\n",
            "sum of 1 and 5 is :  6\n"
          ]
        }
      ]
    },
    {
      "cell_type": "markdown",
      "source": [
        "###Problem Statement 3: Nested-IF-Else Statement"
      ],
      "metadata": {
        "id": "bISzEg2b72Oe"
      }
    },
    {
      "cell_type": "code",
      "source": [
        "#Create a Python program to calculate student grades\n",
        "\n",
        "range = [\"90 and above\",\"90-89\",\"70-79\",\"60-69\",\"Below 60\"]\n",
        "grade = [\"A\",\"B\",\"C\",\"D\",\"F\"]\n",
        "\n",
        "for x in range:\n",
        "  for y in grade:\n",
        "    print(x,y)\n",
        "if range<grade:\n",
        "  print(\"Your grade is A\")\n",
        "if(n>90):\n",
        " print(\"The grade is A\")\n",
        "elif(n>90-89):\n",
        "  print(\"The grade is B\")\n",
        "elif(n>70-79):\n",
        "  print(\"The grade is C\")\n",
        "elif(n>60-69):\n",
        "  print(\"The grade is D\")\n",
        "else:\n",
        "  print(\"Below 60\")"
      ],
      "metadata": {
        "colab": {
          "base_uri": "https://localhost:8080/"
        },
        "id": "5RfxXfoC8vM7",
        "outputId": "7deb5c2f-2d97-48b0-bf99-9b611c71a91d"
      },
      "execution_count": null,
      "outputs": [
        {
          "output_type": "stream",
          "name": "stdout",
          "text": [
            "90 and above A\n",
            "90 and above B\n",
            "90 and above C\n",
            "90 and above D\n",
            "90 and above F\n",
            "90-89 A\n",
            "90-89 B\n",
            "90-89 C\n",
            "90-89 D\n",
            "90-89 F\n",
            "70-79 A\n",
            "70-79 B\n",
            "70-79 C\n",
            "70-79 D\n",
            "70-79 F\n",
            "60-69 A\n",
            "60-69 B\n",
            "60-69 C\n",
            "60-69 D\n",
            "60-69 F\n",
            "Below 60 A\n",
            "Below 60 B\n",
            "Below 60 C\n",
            "Below 60 D\n",
            "Below 60 F\n",
            "Your grade is A\n",
            "The grade is A\n"
          ]
        }
      ]
    }
  ]
}