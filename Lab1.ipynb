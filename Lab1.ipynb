{
  "nbformat": 4,
  "nbformat_minor": 0,
  "metadata": {
    "colab": {
      "name": "Lab1.ipynb",
      "provenance": [],
      "authorship_tag": "ABX9TyPH/MOgY4RwADtpSpfV636G",
      "include_colab_link": true
    },
    "kernelspec": {
      "display_name": "Python 3",
      "name": "python3"
    },
    "language_info": {
      "name": "python"
    }
  },
  "cells": [
    {
      "cell_type": "markdown",
      "metadata": {
        "id": "view-in-github",
        "colab_type": "text"
      },
      "source": [
        "<a href=\"https://colab.research.google.com/github/kimmycorpuz/CPEN-21A-ECE-2-1/blob/main/Lab1.ipynb\" target=\"_parent\"><img src=\"https://colab.research.google.com/assets/colab-badge.svg\" alt=\"Open In Colab\"/></a>"
      ]
    },
    {
      "cell_type": "markdown",
      "metadata": {
        "id": "bv5Ja1EDqjTm"
      },
      "source": [
        "### \"Welcome to Python Programming\""
      ]
    },
    {
      "cell_type": "code",
      "metadata": {
        "colab": {
          "base_uri": "https://localhost:8080/"
        },
        "id": "lhvSEEhav6-z",
        "outputId": "1be9cf5d-b438-4118-c839-012f612c5f71"
      },
      "source": [
        "print(\"Name: Kim Samson\")\n",
        "print(\"Age: 19\")\n",
        "print(\"Adress: Sunrise Place, Tres Cruses, Tanza Cavite\")"
      ],
      "execution_count": 9,
      "outputs": [
        {
          "output_type": "stream",
          "name": "stdout",
          "text": [
            "Name: Kim Samson\n",
            "Age: 19\n",
            "Adress: Sunrise Place, Tres Cruses, Tanza Cavite\n"
          ]
        }
      ]
    }
  ]
}