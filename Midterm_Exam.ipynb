{
  "nbformat": 4,
  "nbformat_minor": 0,
  "metadata": {
    "colab": {
      "name": "Midterm Exam.ipynb",
      "provenance": [],
      "authorship_tag": "ABX9TyNPo/lczCmxHqtbq0gWaE9k",
      "include_colab_link": true
    },
    "kernelspec": {
      "name": "python3",
      "display_name": "Python 3"
    },
    "language_info": {
      "name": "python"
    }
  },
  "cells": [
    {
      "cell_type": "markdown",
      "metadata": {
        "id": "view-in-github",
        "colab_type": "text"
      },
      "source": [
        "<a href=\"https://colab.research.google.com/github/kimmycorpuz/CPEN-21A-ECE-2-1/blob/main/Midterm_Exam.ipynb\" target=\"_parent\"><img src=\"https://colab.research.google.com/assets/colab-badge.svg\" alt=\"Open In Colab\"/></a>"
      ]
    },
    {
      "cell_type": "markdown",
      "metadata": {
        "id": "nqtJ_-uW3VJj"
      },
      "source": [
        "###Problem Statement 1"
      ]
    },
    {
      "cell_type": "code",
      "metadata": {
        "colab": {
          "base_uri": "https://localhost:8080/"
        },
        "id": "znYWicnD3hPi",
        "outputId": "33526552-7fd0-4534-bf54-ce3059fca849"
      },
      "source": [
        "print(\"Full Name: Kim Corpuz Samson\")\n",
        "print(\"Student Number: 202013287\")\n",
        "print(\"Age: 20 years old\")\n",
        "print(\"Birthday: November 19, 2001\")\n",
        "print(\"Address: Block 32 Lot 1 Phase 2 Sonoran St. Sunrise Place, Tres Cruses, Tanza Cavite\")\n",
        "print(\"Course: Bachelor of Science in Electronics and Communication Engineering\")\n",
        "print(\"Last Semester GWA: 1.94\")"
      ],
      "execution_count": 23,
      "outputs": [
        {
          "output_type": "stream",
          "name": "stdout",
          "text": [
            "Full Name: Kim Corpuz Samson\n",
            "Student Number: 202013287\n",
            "Age: 20 years old\n",
            "Birthday: November 19, 2001\n",
            "Address: Block 32 Lot 1 Phase 2 Sonoran St. Sunrise Place, Tres Cruses, Tanza Cavite\n",
            "Course: Bachelor of Science in Electronics and Communication Engineering\n",
            "Last Semester GWA: 1.94\n"
          ]
        }
      ]
    },
    {
      "cell_type": "markdown",
      "metadata": {
        "id": "pKZ99rHx6Xnn"
      },
      "source": [
        "###Problem Statement 2"
      ]
    },
    {
      "cell_type": "code",
      "metadata": {
        "colab": {
          "base_uri": "https://localhost:8080/"
        },
        "id": "6rAgfBps6gMk",
        "outputId": "f38e441f-4385-43eb-9257-f4d75ee7561d"
      },
      "source": [
        "n= 4\n",
        "answ=\"Y\"\n",
        "\n",
        "print(2<n) and (n<6) #a\n",
        "print(2<n) or (n==6) #b\n",
        "print(not(n<6 or n==6)) #c\n",
        "print(not(n<6)) #d\n",
        "print((answ==\"Y\")) or  ((answ==\"y\")) #e\n",
        "print((answ==\"Y\")) and (answ==\"y\") #f\n",
        "print(not(answ==\"y\")) #g \n",
        "print((n==2)) and ((n==5+1)) or ((answ==\"No\")) #h\n",
        "print((n==2) and answ(n=7)) or (answ==\"Y\") #i\n",
        "print(n==2) and ((n==7) or (answ==\"Y\"))"
      ],
      "execution_count": 88,
      "outputs": [
        {
          "output_type": "stream",
          "name": "stdout",
          "text": [
            "True\n",
            "True\n",
            "False\n",
            "False\n",
            "True\n",
            "True\n",
            "True\n",
            "False\n",
            "False\n",
            "False\n"
          ]
        }
      ]
    },
    {
      "cell_type": "markdown",
      "metadata": {
        "id": "kKp_7v-wAOJd"
      },
      "source": [
        "###Problem Statement 3"
      ]
    },
    {
      "cell_type": "code",
      "metadata": {
        "colab": {
          "base_uri": "https://localhost:8080/"
        },
        "id": "4cTJgczXARdv",
        "outputId": "e52c3c34-bb1f-4a2a-ff90-3505faa6b153"
      },
      "source": [
        "x=2\n",
        "y=-3\n",
        "w=7\n",
        "z=-10\n",
        "\n",
        "print(x/y)\n",
        "print(w/y/x)\n",
        "print(z/y%x)\n",
        "print(x%y)\n",
        "print(z%w-y/x*5+5)\n",
        "print(9-x%(2+y))\n",
        "print(z//w)\n",
        "print(2+y**2)\n",
        "print(w/x*2)"
      ],
      "execution_count": 37,
      "outputs": [
        {
          "output_type": "stream",
          "name": "stdout",
          "text": [
            "-0.6666666666666666\n",
            "-1.1666666666666667\n",
            "1.3333333333333335\n",
            "-1\n",
            "16.5\n",
            "9\n",
            "-2\n",
            "11\n",
            "7.0\n"
          ]
        }
      ]
    }
  ]
}